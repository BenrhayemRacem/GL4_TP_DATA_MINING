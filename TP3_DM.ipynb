{
  "nbformat": 4,
  "nbformat_minor": 0,
  "metadata": {
    "colab": {
      "provenance": [],
      "authorship_tag": "ABX9TyMSCWfF2ZcvckzDhI1yRPQs",
      "include_colab_link": true
    },
    "kernelspec": {
      "name": "python3",
      "display_name": "Python 3"
    },
    "language_info": {
      "name": "python"
    }
  },
  "cells": [
    {
      "cell_type": "markdown",
      "metadata": {
        "id": "view-in-github",
        "colab_type": "text"
      },
      "source": [
        "<a href=\"https://colab.research.google.com/github/BenrhayemRacem/GL4_TP_DATA_MINING/blob/supervised_learning/TP3_DM.ipynb\" target=\"_parent\"><img src=\"https://colab.research.google.com/assets/colab-badge.svg\" alt=\"Open In Colab\"/></a>"
      ]
    },
    {
      "cell_type": "markdown",
      "source": [
        "\n",
        "1- Load iris Dataset\n",
        "\n",
        "\n",
        "2-print data and target"
      ],
      "metadata": {
        "id": "1UN2CFL-s5Gt"
      }
    },
    {
      "cell_type": "code",
      "source": [
        "from sklearn import datasets\n",
        "irisData = datasets.load_iris()\n",
        "print (irisData.data)\n",
        "print (irisData.target)"
      ],
      "metadata": {
        "colab": {
          "base_uri": "https://localhost:8080/"
        },
        "id": "eL8f-IqMtEke",
        "outputId": "64a0b776-920f-4bac-9b08-0841db3eab53"
      },
      "execution_count": null,
      "outputs": [
        {
          "output_type": "stream",
          "name": "stdout",
          "text": [
            "[[5.1 3.5 1.4 0.2]\n",
            " [4.9 3.  1.4 0.2]\n",
            " [4.7 3.2 1.3 0.2]\n",
            " [4.6 3.1 1.5 0.2]\n",
            " [5.  3.6 1.4 0.2]\n",
            " [5.4 3.9 1.7 0.4]\n",
            " [4.6 3.4 1.4 0.3]\n",
            " [5.  3.4 1.5 0.2]\n",
            " [4.4 2.9 1.4 0.2]\n",
            " [4.9 3.1 1.5 0.1]\n",
            " [5.4 3.7 1.5 0.2]\n",
            " [4.8 3.4 1.6 0.2]\n",
            " [4.8 3.  1.4 0.1]\n",
            " [4.3 3.  1.1 0.1]\n",
            " [5.8 4.  1.2 0.2]\n",
            " [5.7 4.4 1.5 0.4]\n",
            " [5.4 3.9 1.3 0.4]\n",
            " [5.1 3.5 1.4 0.3]\n",
            " [5.7 3.8 1.7 0.3]\n",
            " [5.1 3.8 1.5 0.3]\n",
            " [5.4 3.4 1.7 0.2]\n",
            " [5.1 3.7 1.5 0.4]\n",
            " [4.6 3.6 1.  0.2]\n",
            " [5.1 3.3 1.7 0.5]\n",
            " [4.8 3.4 1.9 0.2]\n",
            " [5.  3.  1.6 0.2]\n",
            " [5.  3.4 1.6 0.4]\n",
            " [5.2 3.5 1.5 0.2]\n",
            " [5.2 3.4 1.4 0.2]\n",
            " [4.7 3.2 1.6 0.2]\n",
            " [4.8 3.1 1.6 0.2]\n",
            " [5.4 3.4 1.5 0.4]\n",
            " [5.2 4.1 1.5 0.1]\n",
            " [5.5 4.2 1.4 0.2]\n",
            " [4.9 3.1 1.5 0.2]\n",
            " [5.  3.2 1.2 0.2]\n",
            " [5.5 3.5 1.3 0.2]\n",
            " [4.9 3.6 1.4 0.1]\n",
            " [4.4 3.  1.3 0.2]\n",
            " [5.1 3.4 1.5 0.2]\n",
            " [5.  3.5 1.3 0.3]\n",
            " [4.5 2.3 1.3 0.3]\n",
            " [4.4 3.2 1.3 0.2]\n",
            " [5.  3.5 1.6 0.6]\n",
            " [5.1 3.8 1.9 0.4]\n",
            " [4.8 3.  1.4 0.3]\n",
            " [5.1 3.8 1.6 0.2]\n",
            " [4.6 3.2 1.4 0.2]\n",
            " [5.3 3.7 1.5 0.2]\n",
            " [5.  3.3 1.4 0.2]\n",
            " [7.  3.2 4.7 1.4]\n",
            " [6.4 3.2 4.5 1.5]\n",
            " [6.9 3.1 4.9 1.5]\n",
            " [5.5 2.3 4.  1.3]\n",
            " [6.5 2.8 4.6 1.5]\n",
            " [5.7 2.8 4.5 1.3]\n",
            " [6.3 3.3 4.7 1.6]\n",
            " [4.9 2.4 3.3 1. ]\n",
            " [6.6 2.9 4.6 1.3]\n",
            " [5.2 2.7 3.9 1.4]\n",
            " [5.  2.  3.5 1. ]\n",
            " [5.9 3.  4.2 1.5]\n",
            " [6.  2.2 4.  1. ]\n",
            " [6.1 2.9 4.7 1.4]\n",
            " [5.6 2.9 3.6 1.3]\n",
            " [6.7 3.1 4.4 1.4]\n",
            " [5.6 3.  4.5 1.5]\n",
            " [5.8 2.7 4.1 1. ]\n",
            " [6.2 2.2 4.5 1.5]\n",
            " [5.6 2.5 3.9 1.1]\n",
            " [5.9 3.2 4.8 1.8]\n",
            " [6.1 2.8 4.  1.3]\n",
            " [6.3 2.5 4.9 1.5]\n",
            " [6.1 2.8 4.7 1.2]\n",
            " [6.4 2.9 4.3 1.3]\n",
            " [6.6 3.  4.4 1.4]\n",
            " [6.8 2.8 4.8 1.4]\n",
            " [6.7 3.  5.  1.7]\n",
            " [6.  2.9 4.5 1.5]\n",
            " [5.7 2.6 3.5 1. ]\n",
            " [5.5 2.4 3.8 1.1]\n",
            " [5.5 2.4 3.7 1. ]\n",
            " [5.8 2.7 3.9 1.2]\n",
            " [6.  2.7 5.1 1.6]\n",
            " [5.4 3.  4.5 1.5]\n",
            " [6.  3.4 4.5 1.6]\n",
            " [6.7 3.1 4.7 1.5]\n",
            " [6.3 2.3 4.4 1.3]\n",
            " [5.6 3.  4.1 1.3]\n",
            " [5.5 2.5 4.  1.3]\n",
            " [5.5 2.6 4.4 1.2]\n",
            " [6.1 3.  4.6 1.4]\n",
            " [5.8 2.6 4.  1.2]\n",
            " [5.  2.3 3.3 1. ]\n",
            " [5.6 2.7 4.2 1.3]\n",
            " [5.7 3.  4.2 1.2]\n",
            " [5.7 2.9 4.2 1.3]\n",
            " [6.2 2.9 4.3 1.3]\n",
            " [5.1 2.5 3.  1.1]\n",
            " [5.7 2.8 4.1 1.3]\n",
            " [6.3 3.3 6.  2.5]\n",
            " [5.8 2.7 5.1 1.9]\n",
            " [7.1 3.  5.9 2.1]\n",
            " [6.3 2.9 5.6 1.8]\n",
            " [6.5 3.  5.8 2.2]\n",
            " [7.6 3.  6.6 2.1]\n",
            " [4.9 2.5 4.5 1.7]\n",
            " [7.3 2.9 6.3 1.8]\n",
            " [6.7 2.5 5.8 1.8]\n",
            " [7.2 3.6 6.1 2.5]\n",
            " [6.5 3.2 5.1 2. ]\n",
            " [6.4 2.7 5.3 1.9]\n",
            " [6.8 3.  5.5 2.1]\n",
            " [5.7 2.5 5.  2. ]\n",
            " [5.8 2.8 5.1 2.4]\n",
            " [6.4 3.2 5.3 2.3]\n",
            " [6.5 3.  5.5 1.8]\n",
            " [7.7 3.8 6.7 2.2]\n",
            " [7.7 2.6 6.9 2.3]\n",
            " [6.  2.2 5.  1.5]\n",
            " [6.9 3.2 5.7 2.3]\n",
            " [5.6 2.8 4.9 2. ]\n",
            " [7.7 2.8 6.7 2. ]\n",
            " [6.3 2.7 4.9 1.8]\n",
            " [6.7 3.3 5.7 2.1]\n",
            " [7.2 3.2 6.  1.8]\n",
            " [6.2 2.8 4.8 1.8]\n",
            " [6.1 3.  4.9 1.8]\n",
            " [6.4 2.8 5.6 2.1]\n",
            " [7.2 3.  5.8 1.6]\n",
            " [7.4 2.8 6.1 1.9]\n",
            " [7.9 3.8 6.4 2. ]\n",
            " [6.4 2.8 5.6 2.2]\n",
            " [6.3 2.8 5.1 1.5]\n",
            " [6.1 2.6 5.6 1.4]\n",
            " [7.7 3.  6.1 2.3]\n",
            " [6.3 3.4 5.6 2.4]\n",
            " [6.4 3.1 5.5 1.8]\n",
            " [6.  3.  4.8 1.8]\n",
            " [6.9 3.1 5.4 2.1]\n",
            " [6.7 3.1 5.6 2.4]\n",
            " [6.9 3.1 5.1 2.3]\n",
            " [5.8 2.7 5.1 1.9]\n",
            " [6.8 3.2 5.9 2.3]\n",
            " [6.7 3.3 5.7 2.5]\n",
            " [6.7 3.  5.2 2.3]\n",
            " [6.3 2.5 5.  1.9]\n",
            " [6.5 3.  5.2 2. ]\n",
            " [6.2 3.4 5.4 2.3]\n",
            " [5.9 3.  5.1 1.8]]\n",
            "[0 0 0 0 0 0 0 0 0 0 0 0 0 0 0 0 0 0 0 0 0 0 0 0 0 0 0 0 0 0 0 0 0 0 0 0 0\n",
            " 0 0 0 0 0 0 0 0 0 0 0 0 0 1 1 1 1 1 1 1 1 1 1 1 1 1 1 1 1 1 1 1 1 1 1 1 1\n",
            " 1 1 1 1 1 1 1 1 1 1 1 1 1 1 1 1 1 1 1 1 1 1 1 1 1 1 2 2 2 2 2 2 2 2 2 2 2\n",
            " 2 2 2 2 2 2 2 2 2 2 2 2 2 2 2 2 2 2 2 2 2 2 2 2 2 2 2 2 2 2 2 2 2 2 2 2 2\n",
            " 2 2]\n"
          ]
        }
      ]
    },
    {
      "cell_type": "markdown",
      "source": [
        "1- data is divided equally between the three targets : we have 150 instances and every 50 instance belongs to a target (150 / 3 = 50 )\n",
        "\n",
        "**Let's now get  a better description of Iris Dataset**"
      ],
      "metadata": {
        "id": "PDEGSgyKtUjn"
      }
    },
    {
      "cell_type": "code",
      "source": [
        "print(irisData.DESCR)"
      ],
      "metadata": {
        "colab": {
          "base_uri": "https://localhost:8080/"
        },
        "id": "5AvpIMTIvD3G",
        "outputId": "dbe56921-1413-4265-b55a-427fc9be811a"
      },
      "execution_count": null,
      "outputs": [
        {
          "output_type": "stream",
          "name": "stdout",
          "text": [
            ".. _iris_dataset:\n",
            "\n",
            "Iris plants dataset\n",
            "--------------------\n",
            "\n",
            "**Data Set Characteristics:**\n",
            "\n",
            "    :Number of Instances: 150 (50 in each of three classes)\n",
            "    :Number of Attributes: 4 numeric, predictive attributes and the class\n",
            "    :Attribute Information:\n",
            "        - sepal length in cm\n",
            "        - sepal width in cm\n",
            "        - petal length in cm\n",
            "        - petal width in cm\n",
            "        - class:\n",
            "                - Iris-Setosa\n",
            "                - Iris-Versicolour\n",
            "                - Iris-Virginica\n",
            "                \n",
            "    :Summary Statistics:\n",
            "\n",
            "    ============== ==== ==== ======= ===== ====================\n",
            "                    Min  Max   Mean    SD   Class Correlation\n",
            "    ============== ==== ==== ======= ===== ====================\n",
            "    sepal length:   4.3  7.9   5.84   0.83    0.7826\n",
            "    sepal width:    2.0  4.4   3.05   0.43   -0.4194\n",
            "    petal length:   1.0  6.9   3.76   1.76    0.9490  (high!)\n",
            "    petal width:    0.1  2.5   1.20   0.76    0.9565  (high!)\n",
            "    ============== ==== ==== ======= ===== ====================\n",
            "\n",
            "    :Missing Attribute Values: None\n",
            "    :Class Distribution: 33.3% for each of 3 classes.\n",
            "    :Creator: R.A. Fisher\n",
            "    :Donor: Michael Marshall (MARSHALL%PLU@io.arc.nasa.gov)\n",
            "    :Date: July, 1988\n",
            "\n",
            "The famous Iris database, first used by Sir R.A. Fisher. The dataset is taken\n",
            "from Fisher's paper. Note that it's the same as in R, but not as in the UCI\n",
            "Machine Learning Repository, which has two wrong data points.\n",
            "\n",
            "This is perhaps the best known database to be found in the\n",
            "pattern recognition literature.  Fisher's paper is a classic in the field and\n",
            "is referenced frequently to this day.  (See Duda & Hart, for example.)  The\n",
            "data set contains 3 classes of 50 instances each, where each class refers to a\n",
            "type of iris plant.  One class is linearly separable from the other 2; the\n",
            "latter are NOT linearly separable from each other.\n",
            "\n",
            ".. topic:: References\n",
            "\n",
            "   - Fisher, R.A. \"The use of multiple measurements in taxonomic problems\"\n",
            "     Annual Eugenics, 7, Part II, 179-188 (1936); also in \"Contributions to\n",
            "     Mathematical Statistics\" (John Wiley, NY, 1950).\n",
            "   - Duda, R.O., & Hart, P.E. (1973) Pattern Classification and Scene Analysis.\n",
            "     (Q327.D83) John Wiley & Sons.  ISBN 0-471-22361-1.  See page 218.\n",
            "   - Dasarathy, B.V. (1980) \"Nosing Around the Neighborhood: A New System\n",
            "     Structure and Classification Rule for Recognition in Partially Exposed\n",
            "     Environments\".  IEEE Transactions on Pattern Analysis and Machine\n",
            "     Intelligence, Vol. PAMI-2, No. 1, 67-71.\n",
            "   - Gates, G.W. (1972) \"The Reduced Nearest Neighbor Rule\".  IEEE Transactions\n",
            "     on Information Theory, May 1972, 431-433.\n",
            "   - See also: 1988 MLC Proceedings, 54-64.  Cheeseman et al\"s AUTOCLASS II\n",
            "     conceptual clustering system finds 3 classes in the data.\n",
            "   - Many, many more ...\n"
          ]
        }
      ]
    },
    {
      "cell_type": "markdown",
      "source": [
        "**Attributes and target class of 32nd instance ?**\n"
      ],
      "metadata": {
        "id": "E8SJOLgGvRnq"
      }
    },
    {
      "cell_type": "code",
      "source": [
        "print (irisData.data[31])\n",
        "print (irisData.target[31])"
      ],
      "metadata": {
        "colab": {
          "base_uri": "https://localhost:8080/"
        },
        "id": "BALi8_ISucLa",
        "outputId": "a975246b-fa9e-427e-e13b-f6fd1b1bd97e"
      },
      "execution_count": null,
      "outputs": [
        {
          "output_type": "stream",
          "name": "stdout",
          "text": [
            "[5.4 3.4 1.5 0.4]\n",
            "0\n"
          ]
        }
      ]
    },
    {
      "cell_type": "markdown",
      "source": [
        "For this instance we have :\n",
        "\n",
        "sepal length :5.4 cm\n",
        "\n",
        "sepal width :3.4 cm\n",
        "\n",
        "petal length :1.5 cm\n",
        "\n",
        "petal width :0.4cm\n",
        "\n",
        "Target class is 0 ==> Iris-Setosa"
      ],
      "metadata": {
        "id": "9xZDFkWZvmdG"
      }
    },
    {
      "cell_type": "code",
      "source": [
        "import matplotlib\n",
        "import pylab as pl\n",
        "from itertools import cycle\n",
        "def plot_2D(data, target, target_names):\n",
        "\n",
        "  colors = cycle(\"rgbcmykw\") # cycle de couleurs\n",
        "  target_ids = range(len(target_names))\n",
        "  pl.figure()\n",
        "  for i, c, label in zip(target_ids, colors, target_names):\n",
        "    #0 1 not good\n",
        "    pl.scatter(data[target == i, 2], data[target == i, 3], c=c, label=label)\n",
        "  pl.legend()\n",
        "  pl.plot([2.5,2.5],[0,3])\n",
        "  pl.show()\n",
        "\n",
        "# we need to add this line to draw the graphic\n",
        "plot_2D(irisData.data,irisData.target,irisData.target_names)"
      ],
      "metadata": {
        "colab": {
          "base_uri": "https://localhost:8080/",
          "height": 265
        },
        "id": "rjLSeguUwIgl",
        "outputId": "36900fdc-7d61-4041-f539-8f2c6a85e38b"
      },
      "execution_count": null,
      "outputs": [
        {
          "output_type": "display_data",
          "data": {
            "text/plain": [
              "<Figure size 432x288 with 1 Axes>"
            ],
            "image/png": "[encoded data removed]"
          },
          "metadata": {
            "needs_background": "light"
          }
        }
      ]
    },
    {
      "cell_type": "markdown",
      "source": [
        "the line x=2.5 seperate the setosa class from (versicolor and virginica)"
      ],
      "metadata": {
        "id": "0P4_ooNMwiut"
      }
    },
    {
      "cell_type": "code",
      "source": [
        "from sklearn import naive_bayes\n",
        "nb = naive_bayes.MultinomialNB(fit_prior=True)# un algo d'apprentissage\n",
        "irisData = datasets.load_iris()\n",
        "nb.fit(irisData.data[:], irisData.target[:])\n",
        "p31 = nb.predict([irisData.data[31]])\n",
        "print(p31) \n",
        "plast = nb.predict([irisData.data[-1]])\n",
        "print(plast)\n",
        "p = nb.predict(irisData.data[:])\n",
        "\n",
        "print(p) "
      ],
      "metadata": {
        "colab": {
          "base_uri": "https://localhost:8080/"
        },
        "id": "6FTTzA2oxQVc",
        "outputId": "c1d7ff91-8c2c-4c5a-af8e-01c41527d125"
      },
      "execution_count": null,
      "outputs": [
        {
          "output_type": "stream",
          "name": "stdout",
          "text": [
            "[0]\n",
            "[2]\n",
            "[0 0 0 0 0 0 0 0 0 0 0 0 0 0 0 0 0 0 0 0 0 0 0 0 0 0 0 0 0 0 0 0 0 0 0 0 0\n",
            " 0 0 0 0 0 0 0 0 0 0 0 0 0 1 1 1 1 1 1 1 1 1 1 1 1 1 1 1 1 1 1 2 1 2 1 2 1\n",
            " 1 1 1 1 1 1 1 1 1 2 1 1 1 1 1 1 1 1 1 1 1 1 1 1 1 1 2 2 2 2 2 2 2 2 2 2 2\n",
            " 2 2 2 2 2 2 2 2 2 2 2 2 2 2 2 2 2 2 1 2 1 2 1 2 2 2 2 2 2 2 2 2 2 2 2 2 2\n",
            " 2 2]\n"
          ]
        }
      ]
    },
    {
      "cell_type": "markdown",
      "source": [
        "We trained a model to predict classes for future instances \n",
        "\n",
        "We used naive_bayes algorithm and used all the dataset for training\n",
        "\n",
        "Despite using all data available , we still got errors in predictions.\n",
        "\n",
        "The classe 0 (setosa) is seperated from the two other classes so should not get erros in predicting an instance that belongs to this class (which is our case)\n",
        "\n",
        "Errors in predicting classe 1 and 2 could happen and we could tolerate that ( look at the third array )"
      ],
      "metadata": {
        "id": "QwbYxCcxxZzY"
      }
    },
    {
      "cell_type": "code",
      "source": [
        "nb = naive_bayes.MultinomialNB(fit_prior=True)\n",
        "nb.fit(irisData.data[:99], irisData.target[:99])\n",
        "nb.predict(irisData.data[100:149])"
      ],
      "metadata": {
        "colab": {
          "base_uri": "https://localhost:8080/"
        },
        "id": "7zs1_A2Hy7yj",
        "outputId": "d7952994-bc00-4500-db69-0ca8da1be602"
      },
      "execution_count": null,
      "outputs": [
        {
          "output_type": "execute_result",
          "data": {
            "text/plain": [
              "array([1, 1, 1, 1, 1, 1, 1, 1, 1, 1, 1, 1, 1, 1, 1, 1, 1, 1, 1, 1, 1, 1,\n",
              "       1, 1, 1, 1, 1, 1, 1, 1, 1, 1, 1, 1, 1, 1, 1, 1, 1, 1, 1, 1, 1, 1,\n",
              "       1, 1, 1, 1, 1])"
            ]
          },
          "metadata": {},
          "execution_count": 14
        }
      ]
    },
    {
      "cell_type": "markdown",
      "source": [
        "We trained a model using naive_bayes algorithm\n",
        "\n",
        "In this case we only used the first 100 instances for the training and the 50 instance that left are used for prediction\n",
        "\n",
        "the first 100 instances are divided into only 2 classes / 3 : 0 and 1 class\n",
        "\n",
        "prediction data belongs all to the third class (class 2)\n",
        "\n",
        "From the plot we saw that class 1 and 2 instances (blue ,green) are nearby and close , which is not the case for class 0 instances (red)\n",
        "\n",
        "For this reason the prediction gave us class 1 as a result"
      ],
      "metadata": {
        "id": "3nMFiovbzF7G"
      }
    },
    {
      "cell_type": "markdown",
      "source": [
        "To rectify those problems we need to balance prediction and training data\n",
        "\n",
        "The most recommanded way is:\n",
        "\n",
        "- 66% of the dataset for training (2/3) -> we take 2/3 from each class\n",
        "\n",
        "- the rest of unused data is for testing/ prediciting (33% = 1/3 )\n",
        "\n",
        "(also we could split 80% , 20% )"
      ],
      "metadata": {
        "id": "xO1fHxTB0LMv"
      }
    },
    {
      "cell_type": "code",
      "source": [
        "import numpy as np\n",
        "ea = 0\n",
        "y=irisData.target\n",
        "for i in range(len(irisData.data)):\n",
        "  \n",
        "  if (p[i] != y[i]):\n",
        "     ea = ea+1\n",
        "print (ea/len(irisData.data))\n",
        "\n",
        "#in one line\n",
        "error = np.count_nonzero(p-y)/ len(irisData.data)\n",
        "print(error)"
      ],
      "metadata": {
        "colab": {
          "base_uri": "https://localhost:8080/"
        },
        "id": "vF7qldnDYqik",
        "outputId": "3665e1d3-edcf-49ff-aae1-ebec2480f819"
      },
      "execution_count": null,
      "outputs": [
        {
          "output_type": "stream",
          "name": "stdout",
          "text": [
            "0.04666666666666667\n",
            "0.04666666666666667\n"
          ]
        }
      ]
    },
    {
      "cell_type": "code",
      "source": [
        "\n",
        "X = irisData.data\n",
        "score = nb.score(X,y)\n",
        "print( \"score= \",score)\n",
        "print(\"error = 1-score = \",1-score)"
      ],
      "metadata": {
        "colab": {
          "base_uri": "https://localhost:8080/"
        },
        "id": "A4ky8CAp2M99",
        "outputId": "538a5447-799d-42c3-fde2-4ade0b3fb5ea"
      },
      "execution_count": null,
      "outputs": [
        {
          "output_type": "stream",
          "name": "stdout",
          "text": [
            "score=  0.9533333333333334\n",
            "error = 1-score =  0.046666666666666634\n"
          ]
        }
      ]
    },
    {
      "cell_type": "code",
      "source": [
        "import random\n",
        "import math\n",
        "def find_rows(source, target):\n",
        "    return np.where((source == target).all(axis=1))[0]\n",
        "\n",
        "\n",
        "def retrieve_training_data(source,trainingSize,begin,end):\n",
        "  dataForClass1 = list(source[begin:end])\n",
        "  trainingData =random.sample(dataForClass1 ,k=trainingSize)\n",
        "  #reshape data\n",
        "  trainingDataReshaped =np.array(np.array(trainingData))\n",
        "  #get training data indexes from source ==> used for finding training data\n",
        "  trainingDataIndexes=[]\n",
        "  for i in range(len(trainingData)):\n",
        "    index =find_rows(source=source[begin:end], target=trainingDataReshaped[i])[0]\n",
        "    trainingDataIndexes.append(index)\n",
        "  return [trainingDataReshaped ,trainingDataIndexes]\n",
        "\n",
        "\n",
        "\n",
        "def retrieve_unused_instances(source,indexes):\n",
        "  predictionData =[]\n",
        "  for i in range(len(source)):\n",
        "      if(i in indexes):\n",
        "        continue\n",
        "      predictionData.append(source[i])\n",
        "\n",
        "  return np.array(np.array(predictionData))\n",
        "\n",
        "\n",
        "\n",
        "\n",
        "trainingSize = math.floor((2*len(irisData.data)/3)/3)\n",
        "#oneClassSize=50\n",
        "def split(S):\n",
        "  #dataClass1 = random.sample(list(S.data[0:50]) ,k=trainingSize)\n",
        "  #arrDataClass1 = np.array(np.array(dataClass1))\n",
        "  #targetClass1=[]\n",
        "  #dataClass1Indexes =  []\n",
        "\n",
        "  # class 0 processing\n",
        "  dataForClass1 = list(S.data[0:50])\n",
        "  targetClass1 = [0] * trainingSize\n",
        "  [trainingData1 , trainingDataIndexes1] = retrieve_training_data(S.data,trainingSize,begin=0,end=50)\n",
        "  predictionDataForClass1 =retrieve_unused_instances(list(S.data[0:50]),trainingDataIndexes1)\n",
        "\n",
        "  #class 1 processing\n",
        "  dataForClass2 = list(S.data[51:100])\n",
        "  targetClass2 = [1] * trainingSize\n",
        "  [trainingData2 , trainingDataIndexes2] = retrieve_training_data(S.data,trainingSize,begin=51,end=100)\n",
        "  predictionDataForClass2 =retrieve_unused_instances(list(S.data[51:100]),trainingDataIndexes2)\n",
        "\n",
        "  #class 2 processing\n",
        "  dataForClass3 = list(S.data[101:150])\n",
        "  targetClass3 = [2] * trainingSize\n",
        "  [trainingData3 , trainingDataIndexes3] = retrieve_training_data(S.data,trainingSize,begin=101,end=150)\n",
        "  predictionDataForClass3 =retrieve_unused_instances(list(S.data[101:150]),trainingDataIndexes3)\n",
        "\n",
        "\n",
        "  whole_training_data = np.concatenate((trainingData1, trainingData2,trainingData3), axis=0)\n",
        "  whole_training_class = [0] * trainingSize + [1] * trainingSize + [2] * trainingSize\n",
        "\n",
        "  whole_prediction_data = np.concatenate((predictionDataForClass1, predictionDataForClass2,predictionDataForClass3), axis=0)\n",
        "  whole_prediction_class = [0] * len(predictionDataForClass1) + [1] * len(predictionDataForClass2) + [2] * len(predictionDataForClass3)\n",
        "  #print(len(whole_prediction_class))\n",
        "\n",
        "  return [whole_training_data,whole_training_class,whole_prediction_data,whole_prediction_class]\n",
        "\n",
        " # for i in range(len(dataClass1)):\n",
        "  #  index =find_rows(source=S.data, target=arrDataClass1[i])[0]\n",
        "  #  targetClass1.append(S.target[index]);\n",
        "   # dataClass1Indexes.append(index)\n",
        "    \n",
        "  #print(S.data[0:trainingSize] - arrDataClass1)\n",
        "  #print(dataClass1Indexes)\n",
        "  \n",
        "  #print(len(whole_training_data))\n",
        "  #print(len(whole_training_class))\n",
        "  #print(len(whole_prediciton_data))\n",
        "   \n",
        "  #print(find_rows(source=S.data, target=arr[0])[0])\n",
        "  #return arrDataClass1\n"
      ],
      "metadata": {
        "id": "rx-HC3l83tMD"
      },
      "execution_count": null,
      "outputs": []
    },
    {
      "cell_type": "code",
      "source": [
        "\n",
        "shuffledDataset= split(irisData)\n",
        "print(shuffledDataset)"
      ],
      "metadata": {
        "colab": {
          "base_uri": "https://localhost:8080/"
        },
        "id": "VzgggBNQ-rCY",
        "outputId": "61e900dc-1ed5-41ab-97ab-c5ae4434f0de"
      },
      "execution_count": null,
      "outputs": [
        {
          "output_type": "stream",
          "name": "stdout",
          "text": [
            "[array([[4.6, 3.1, 1.5, 0.2],\n",
            "       [4.9, 3.1, 1.5, 0.2],\n",
            "       [5.1, 3.7, 1.5, 0.4],\n",
            "       [4.4, 2.9, 1.4, 0.2],\n",
            "       [4.3, 3. , 1.1, 0.1],\n",
            "       [5.4, 3.4, 1.7, 0.2],\n",
            "       [5. , 3.4, 1.6, 0.4],\n",
            "       [5.1, 3.8, 1.6, 0.2],\n",
            "       [5.1, 3.5, 1.4, 0.2],\n",
            "       [5.2, 3.5, 1.5, 0.2],\n",
            "       [5.8, 4. , 1.2, 0.2],\n",
            "       [5.4, 3.9, 1.7, 0.4],\n",
            "       [5.7, 4.4, 1.5, 0.4],\n",
            "       [4.9, 3.1, 1.5, 0.1],\n",
            "       [5.3, 3.7, 1.5, 0.2],\n",
            "       [5. , 3.2, 1.2, 0.2],\n",
            "       [4.6, 3.6, 1. , 0.2],\n",
            "       [5.5, 4.2, 1.4, 0.2],\n",
            "       [5.4, 3.7, 1.5, 0.2],\n",
            "       [4.7, 3.2, 1.3, 0.2],\n",
            "       [5.1, 3.3, 1.7, 0.5],\n",
            "       [5. , 3.5, 1.3, 0.3],\n",
            "       [4.8, 3.1, 1.6, 0.2],\n",
            "       [5.1, 3.8, 1.5, 0.3],\n",
            "       [4.8, 3. , 1.4, 0.1],\n",
            "       [4.7, 3.2, 1.6, 0.2],\n",
            "       [5.5, 3.5, 1.3, 0.2],\n",
            "       [5.2, 3.4, 1.4, 0.2],\n",
            "       [5.4, 3.9, 1.3, 0.4],\n",
            "       [5. , 3.3, 1.4, 0.2],\n",
            "       [4.4, 3. , 1.3, 0.2],\n",
            "       [5. , 3.4, 1.5, 0.2],\n",
            "       [5. , 3.5, 1.6, 0.6],\n",
            "       [5.8, 2.7, 3.9, 1.2],\n",
            "       [5.6, 2.9, 3.6, 1.3],\n",
            "       [6.1, 2.8, 4. , 1.3],\n",
            "       [5.5, 2.3, 4. , 1.3],\n",
            "       [5.6, 3. , 4.1, 1.3],\n",
            "       [6.1, 3. , 4.6, 1.4],\n",
            "       [6.2, 2.9, 4.3, 1.3],\n",
            "       [5.6, 2.5, 3.9, 1.1],\n",
            "       [5.7, 2.6, 3.5, 1. ],\n",
            "       [6.6, 3. , 4.4, 1.4],\n",
            "       [5.5, 2.6, 4.4, 1.2],\n",
            "       [5.5, 2.5, 4. , 1.3],\n",
            "       [6.4, 3.2, 4.5, 1.5],\n",
            "       [5.8, 2.6, 4. , 1.2],\n",
            "       [6.6, 2.9, 4.6, 1.3],\n",
            "       [6.3, 2.3, 4.4, 1.3],\n",
            "       [5.7, 2.9, 4.2, 1.3],\n",
            "       [6.4, 2.9, 4.3, 1.3],\n",
            "       [5.7, 2.8, 4.5, 1.3],\n",
            "       [5.6, 3. , 4.5, 1.5],\n",
            "       [5.8, 2.7, 4.1, 1. ],\n",
            "       [4.9, 2.4, 3.3, 1. ],\n",
            "       [6.8, 2.8, 4.8, 1.4],\n",
            "       [6.1, 2.9, 4.7, 1.4],\n",
            "       [6.3, 3.3, 4.7, 1.6],\n",
            "       [6.7, 3.1, 4.7, 1.5],\n",
            "       [5. , 2.3, 3.3, 1. ],\n",
            "       [6. , 3.4, 4.5, 1.6],\n",
            "       [5.1, 2.5, 3. , 1.1],\n",
            "       [6. , 2.7, 5.1, 1.6],\n",
            "       [5.5, 2.4, 3.7, 1. ],\n",
            "       [6.7, 3. , 5. , 1.7],\n",
            "       [5.5, 2.4, 3.8, 1.1],\n",
            "       [6.7, 2.5, 5.8, 1.8],\n",
            "       [7.1, 3. , 5.9, 2.1],\n",
            "       [6.1, 2.6, 5.6, 1.4],\n",
            "       [6.5, 3. , 5.5, 1.8],\n",
            "       [6.4, 2.8, 5.6, 2.1],\n",
            "       [7.2, 3.6, 6.1, 2.5],\n",
            "       [6.5, 3.2, 5.1, 2. ],\n",
            "       [6.4, 3.1, 5.5, 1.8],\n",
            "       [6.3, 2.8, 5.1, 1.5],\n",
            "       [6.7, 3.3, 5.7, 2.5],\n",
            "       [6.5, 3. , 5.2, 2. ],\n",
            "       [6.4, 2.7, 5.3, 1.9],\n",
            "       [7.7, 3.8, 6.7, 2.2],\n",
            "       [6.9, 3.1, 5.1, 2.3],\n",
            "       [6.1, 3. , 4.9, 1.8],\n",
            "       [6.2, 2.8, 4.8, 1.8],\n",
            "       [7.3, 2.9, 6.3, 1.8],\n",
            "       [6.3, 2.5, 5. , 1.9],\n",
            "       [6. , 3. , 4.8, 1.8],\n",
            "       [4.9, 2.5, 4.5, 1.7],\n",
            "       [6.9, 3.2, 5.7, 2.3],\n",
            "       [7.6, 3. , 6.6, 2.1],\n",
            "       [6.8, 3.2, 5.9, 2.3],\n",
            "       [6.9, 3.1, 5.4, 2.1],\n",
            "       [7.2, 3.2, 6. , 1.8],\n",
            "       [6. , 2.2, 5. , 1.5],\n",
            "       [6.5, 3. , 5.8, 2.2],\n",
            "       [5.9, 3. , 5.1, 1.8],\n",
            "       [5.8, 2.8, 5.1, 2.4],\n",
            "       [6.7, 3. , 5.2, 2.3],\n",
            "       [6.4, 2.8, 5.6, 2.2],\n",
            "       [7.2, 3. , 5.8, 1.6],\n",
            "       [7.4, 2.8, 6.1, 1.9]]), [0, 0, 0, 0, 0, 0, 0, 0, 0, 0, 0, 0, 0, 0, 0, 0, 0, 0, 0, 0, 0, 0, 0, 0, 0, 0, 0, 0, 0, 0, 0, 0, 0, 1, 1, 1, 1, 1, 1, 1, 1, 1, 1, 1, 1, 1, 1, 1, 1, 1, 1, 1, 1, 1, 1, 1, 1, 1, 1, 1, 1, 1, 1, 1, 1, 1, 2, 2, 2, 2, 2, 2, 2, 2, 2, 2, 2, 2, 2, 2, 2, 2, 2, 2, 2, 2, 2, 2, 2, 2, 2, 2, 2, 2, 2, 2, 2, 2, 2], array([[4.9, 3. , 1.4, 0.2],\n",
            "       [5. , 3.6, 1.4, 0.2],\n",
            "       [4.6, 3.4, 1.4, 0.3],\n",
            "       [4.8, 3.4, 1.6, 0.2],\n",
            "       [5.1, 3.5, 1.4, 0.3],\n",
            "       [5.7, 3.8, 1.7, 0.3],\n",
            "       [4.8, 3.4, 1.9, 0.2],\n",
            "       [5. , 3. , 1.6, 0.2],\n",
            "       [5.4, 3.4, 1.5, 0.4],\n",
            "       [5.2, 4.1, 1.5, 0.1],\n",
            "       [4.9, 3.6, 1.4, 0.1],\n",
            "       [5.1, 3.4, 1.5, 0.2],\n",
            "       [4.5, 2.3, 1.3, 0.3],\n",
            "       [4.4, 3.2, 1.3, 0.2],\n",
            "       [5.1, 3.8, 1.9, 0.4],\n",
            "       [4.8, 3. , 1.4, 0.3],\n",
            "       [4.6, 3.2, 1.4, 0.2],\n",
            "       [6.9, 3.1, 4.9, 1.5],\n",
            "       [6.5, 2.8, 4.6, 1.5],\n",
            "       [5.2, 2.7, 3.9, 1.4],\n",
            "       [5. , 2. , 3.5, 1. ],\n",
            "       [5.9, 3. , 4.2, 1.5],\n",
            "       [6. , 2.2, 4. , 1. ],\n",
            "       [6.7, 3.1, 4.4, 1.4],\n",
            "       [6.2, 2.2, 4.5, 1.5],\n",
            "       [5.9, 3.2, 4.8, 1.8],\n",
            "       [6.3, 2.5, 4.9, 1.5],\n",
            "       [6.1, 2.8, 4.7, 1.2],\n",
            "       [6. , 2.9, 4.5, 1.5],\n",
            "       [5.4, 3. , 4.5, 1.5],\n",
            "       [5.6, 2.7, 4.2, 1.3],\n",
            "       [5.7, 3. , 4.2, 1.2],\n",
            "       [5.7, 2.8, 4.1, 1.3],\n",
            "       [5.8, 2.7, 5.1, 1.9],\n",
            "       [6.3, 2.9, 5.6, 1.8],\n",
            "       [6.8, 3. , 5.5, 2.1],\n",
            "       [5.7, 2.5, 5. , 2. ],\n",
            "       [6.4, 3.2, 5.3, 2.3],\n",
            "       [7.7, 2.6, 6.9, 2.3],\n",
            "       [5.6, 2.8, 4.9, 2. ],\n",
            "       [7.7, 2.8, 6.7, 2. ],\n",
            "       [6.3, 2.7, 4.9, 1.8],\n",
            "       [6.7, 3.3, 5.7, 2.1],\n",
            "       [7.9, 3.8, 6.4, 2. ],\n",
            "       [7.7, 3. , 6.1, 2.3],\n",
            "       [6.3, 3.4, 5.6, 2.4],\n",
            "       [6.7, 3.1, 5.6, 2.4],\n",
            "       [5.8, 2.7, 5.1, 1.9],\n",
            "       [6.2, 3.4, 5.4, 2.3]]), [0, 0, 0, 0, 0, 0, 0, 0, 0, 0, 0, 0, 0, 0, 0, 0, 0, 1, 1, 1, 1, 1, 1, 1, 1, 1, 1, 1, 1, 1, 1, 1, 1, 2, 2, 2, 2, 2, 2, 2, 2, 2, 2, 2, 2, 2, 2, 2, 2]]\n"
          ]
        }
      ]
    },
    {
      "cell_type": "code",
      "source": [
        "def test(S,clf):\n",
        "  [dataS1, targetS1, dataS2, targetS2]=split(S)\n",
        "  clf.fit(dataS1, targetS1)\n",
        "  p=clf.predict(dataS2)\n",
        "  error = (np.count_nonzero(p - targetS2))/ len(S.data)\n",
        "  print(p)\n",
        "  print(\"error= \",error)\n"
      ],
      "metadata": {
        "id": "jiaO2cmRPRVx"
      },
      "execution_count": null,
      "outputs": []
    },
    {
      "cell_type": "code",
      "source": [
        "nb = naive_bayes.MultinomialNB(fit_prior=True)\n",
        "test(irisData,nb)"
      ],
      "metadata": {
        "colab": {
          "base_uri": "https://localhost:8080/"
        },
        "id": "Eh3RBMBIR0hN",
        "outputId": "dbaa86d8-edbc-458f-fd3a-64a9d1fd94e5"
      },
      "execution_count": null,
      "outputs": [
        {
          "output_type": "stream",
          "name": "stdout",
          "text": [
            "[0 0 0 0 0 0 0 0 0 0 0 0 0 0 0 0 0 1 1 1 1 1 1 1 1 1 2 1 1 1 2 1 1 2 2 2 2\n",
            " 2 2 2 2 2 2 2 2 2 2 2 2]\n",
            "error=  0.013333333333333334\n"
          ]
        }
      ]
    },
    {
      "cell_type": "code",
      "source": [
        "def testWithTestRepetition(S,clf,t):\n",
        "  [dataS1, targetS1, dataS2, targetS2]=split(S)\n",
        "  clf.fit(dataS1, targetS1)\n",
        "  mean_error=0\n",
        "  for i in range(t):\n",
        "    p=clf.predict(dataS2)\n",
        "    error = (np.count_nonzero(p - targetS2))/ len(S.data)\n",
        "    #print(error)\n",
        "    mean_error+=error\n",
        "  \n",
        "  #print(\"mean error= \",mean_error/t)\n",
        "  return mean_error/t\n"
      ],
      "metadata": {
        "id": "qorvlaDGTYeY"
      },
      "execution_count": null,
      "outputs": []
    },
    {
      "cell_type": "code",
      "source": [
        "nb = naive_bayes.MultinomialNB(fit_prior=True)\n",
        "testWithTestRepetition(irisData,nb,10)\n",
        "testWithTestRepetition(irisData,nb,50)\n",
        "testWithTestRepetition(irisData,nb,100)\n",
        "testWithTestRepetition(irisData,nb,200)\n",
        "testWithTestRepetition(irisData,nb,500)\n",
        "testWithTestRepetition(irisData,nb,1000)"
      ],
      "metadata": {
        "colab": {
          "base_uri": "https://localhost:8080/"
        },
        "id": "H-9kGYtdT4-D",
        "outputId": "fce398b0-1e1d-416d-c72a-0232f27bc802"
      },
      "execution_count": null,
      "outputs": [
        {
          "output_type": "execute_result",
          "data": {
            "text/plain": [
              "0.006666666666666767"
            ]
          },
          "metadata": {},
          "execution_count": 187
        }
      ]
    },
    {
      "cell_type": "code",
      "source": [
        "def repeat_experience(S,clf,t,nb_experience):\n",
        "  error= 0\n",
        "  for i in range(nb_experience):\n",
        "    error+= testWithTestRepetition(S,clf,t)\n",
        "  \n",
        "  print(\"mean error with t=\",t,\" is: \",error/nb_experience)\n",
        "  "
      ],
      "metadata": {
        "id": "sVPRvaPoVwXA"
      },
      "execution_count": null,
      "outputs": []
    },
    {
      "cell_type": "code",
      "source": [
        "nb = naive_bayes.MultinomialNB(fit_prior=True)\n",
        "repeat_experience(irisData,nb,10,20)\n",
        "repeat_experience(irisData,nb,50,20)\n",
        "repeat_experience(irisData,nb,100,20)\n",
        "repeat_experience(irisData,nb,200,20)\n",
        "repeat_experience(irisData,nb,500,20)\n",
        "repeat_experience(irisData,nb,1000,20)"
      ],
      "metadata": {
        "colab": {
          "base_uri": "https://localhost:8080/"
        },
        "id": "tEtYJHpSWisz",
        "outputId": "a67c2ae9-2d50-46e9-a806-7d6a746bf03b"
      },
      "execution_count": null,
      "outputs": [
        {
          "output_type": "stream",
          "name": "stdout",
          "text": [
            "mean error with t= 10  is:  0.012666666666666665\n",
            "mean error with t= 50  is:  0.016999999999999994\n",
            "mean error with t= 100  is:  0.012000000000000007\n",
            "mean error with t= 200  is:  0.014333333333333328\n",
            "mean error with t= 500  is:  0.015333333333333376\n",
            "mean error with t= 1000  is:  0.014000000000000018\n"
          ]
        }
      ]
    },
    {
      "cell_type": "code",
      "source": [
        "from sklearn.model_selection import train_test_split\n",
        "\n",
        "X_train, X_test, y_train, y_test = train_test_split(irisData.data,irisData.target,test_size=0.33, random_state=42)\n",
        "\n",
        "\n",
        "nb.fit(X_train,y_train)\n",
        "nb.predict(X_test)"
      ],
      "metadata": {
        "colab": {
          "base_uri": "https://localhost:8080/"
        },
        "id": "8gAq2osWX1Pw",
        "outputId": "71ad5fad-cb34-4b10-d1c2-5ba9ad16b34c"
      },
      "execution_count": null,
      "outputs": [
        {
          "output_type": "execute_result",
          "data": {
            "text/plain": [
              "array([1, 0, 2, 1, 1, 0, 1, 2, 1, 1, 2, 0, 0, 0, 0, 1, 2, 1, 1, 2, 0, 2,\n",
              "       0, 2, 1, 2, 2, 2, 0, 0, 0, 0, 1, 0, 0, 2, 1, 0, 0, 0, 2, 1, 1, 0,\n",
              "       0, 1, 1, 2, 1, 2])"
            ]
          },
          "metadata": {},
          "execution_count": 193
        }
      ]
    },
    {
      "cell_type": "code",
      "source": [
        "from sklearn.model_selection import train_test_split\n",
        "def train_test_split_with_multiple_test_size(clf,test_size):\n",
        "  X_train, X_test, y_train, y_test = train_test_split(irisData.data,irisData.target,test_size=test_size, random_state=42)\n",
        "  clf.fit(X_train,y_train)\n",
        "  p=clf.predict(X_test)\n",
        "  error = (np.count_nonzero(p - y_test))/ len(irisData.data)\n",
        "  print(\"test size = \" , test_size *100 , \"% and error = \" , error ,\" score = \", 1-error)"
      ],
      "metadata": {
        "id": "Aw5evsz9a_4u"
      },
      "execution_count": null,
      "outputs": []
    },
    {
      "cell_type": "code",
      "source": [
        "nb = naive_bayes.MultinomialNB(fit_prior=True)\n",
        "# 10%\n",
        "train_test_split_with_multiple_test_size(nb,0.1)\n",
        "# 20% \n",
        "train_test_split_with_multiple_test_size(nb,0.2)\n",
        "# 33%\n",
        "train_test_split_with_multiple_test_size(nb,0.33)\n",
        "# 50%\n",
        "train_test_split_with_multiple_test_size(nb,0.5)\n",
        "# 80%\n",
        "train_test_split_with_multiple_test_size(nb,0.8)"
      ],
      "metadata": {
        "colab": {
          "base_uri": "https://localhost:8080/"
        },
        "id": "5Rmkf8XvbwNJ",
        "outputId": "8d38531c-91b0-431a-e3a4-455164149f89"
      },
      "execution_count": null,
      "outputs": [
        {
          "output_type": "stream",
          "name": "stdout",
          "text": [
            "test size =  10.0 % and error =  0.013333333333333334  score =  0.9866666666666667\n",
            "test size =  20.0 % and error =  0.02  score =  0.98\n",
            "test size =  33.0 % and error =  0.013333333333333334  score =  0.9866666666666667\n",
            "test size =  50.0 % and error =  0.013333333333333334  score =  0.9866666666666667\n",
            "test size =  80.0 % and error =  0.12666666666666668  score =  0.8733333333333333\n"
          ]
        }
      ]
    },
    {
      "cell_type": "code",
      "source": [
        "from sklearn.model_selection import cross_val_score\n",
        "# 10\n",
        "scores10 = cross_val_score(nb, X, y, cv=10)\n",
        "scores10.mean()\n",
        "print(scores10.mean())\n",
        "# 2\n",
        "scores2 = cross_val_score(nb, X, y, cv=2)\n",
        "print(scores2.mean())\n",
        "# 3\n",
        "scores3 = cross_val_score(nb, X, y, cv=3)\n",
        "print(scores3.mean())\n",
        "# 5\n",
        "scores5 = cross_val_score(nb, X, y, cv=5)\n",
        "print(scores5.mean())\n",
        "# 8\n",
        "scores8 = cross_val_score(nb, X, y, cv=8)\n",
        "print(scores8.mean())"
      ],
      "metadata": {
        "colab": {
          "base_uri": "https://localhost:8080/"
        },
        "id": "oVla2gf7YIKI",
        "outputId": "9b98cdc9-ede2-4dd7-9a84-04929c362bcb"
      },
      "execution_count": null,
      "outputs": [
        {
          "output_type": "stream",
          "name": "stdout",
          "text": [
            "0.9533333333333334\n",
            "0.9533333333333334\n",
            "0.9466666666666667\n",
            "0.9533333333333334\n",
            "0.9473684210526316\n"
          ]
        }
      ]
    },
    {
      "cell_type": "code",
      "source": [
        "from sklearn.model_selection import train_test_split\n",
        "from sklearn import tree\n",
        "X_train, X_test, y_train, y_test = train_test_split(irisData.data,irisData.target,test_size=0.33, random_state=42)\n",
        "clf = tree.DecisionTreeClassifier()\n",
        "clf.fit(X_train,y_train)\n"
      ],
      "metadata": {
        "colab": {
          "base_uri": "https://localhost:8080/"
        },
        "id": "TEnO5JYTm3Z6",
        "outputId": "13818075-fa2d-479b-d43b-aafa22193944"
      },
      "execution_count": null,
      "outputs": [
        {
          "output_type": "execute_result",
          "data": {
            "text/plain": [
              "DecisionTreeClassifier()"
            ]
          },
          "metadata": {},
          "execution_count": 18
        }
      ]
    },
    {
      "cell_type": "code",
      "source": [
        "tree.plot_tree(clf)"
      ],
      "metadata": {
        "colab": {
          "base_uri": "https://localhost:8080/",
          "height": 578
        },
        "id": "I521AZeQnnJf",
        "outputId": "5dcb90fc-5045-4d9b-ba3f-48d449b07fdd"
      },
      "execution_count": null,
      "outputs": [
        {
          "output_type": "execute_result",
          "data": {
            "text/plain": [
              "[Text(0.5416666666666666, 0.9285714285714286, 'X[2] <= 2.45\\ngini = 0.666\\nsamples = 100\\nvalue = [31, 35, 34]'),\n",
              " Text(0.4583333333333333, 0.7857142857142857, 'gini = 0.0\\nsamples = 31\\nvalue = [31, 0, 0]'),\n",
              " Text(0.625, 0.7857142857142857, 'X[3] <= 1.75\\ngini = 0.5\\nsamples = 69\\nvalue = [0, 35, 34]'),\n",
              " Text(0.4166666666666667, 0.6428571428571429, 'X[2] <= 5.35\\ngini = 0.188\\nsamples = 38\\nvalue = [0, 34, 4]'),\n",
              " Text(0.3333333333333333, 0.5, 'X[0] <= 4.95\\ngini = 0.105\\nsamples = 36\\nvalue = [0, 34, 2]'),\n",
              " Text(0.16666666666666666, 0.35714285714285715, 'X[3] <= 1.35\\ngini = 0.5\\nsamples = 2\\nvalue = [0, 1, 1]'),\n",
              " Text(0.08333333333333333, 0.21428571428571427, 'gini = 0.0\\nsamples = 1\\nvalue = [0, 1, 0]'),\n",
              " Text(0.25, 0.21428571428571427, 'gini = 0.0\\nsamples = 1\\nvalue = [0, 0, 1]'),\n",
              " Text(0.5, 0.35714285714285715, 'X[2] <= 4.95\\ngini = 0.057\\nsamples = 34\\nvalue = [0, 33, 1]'),\n",
              " Text(0.4166666666666667, 0.21428571428571427, 'gini = 0.0\\nsamples = 31\\nvalue = [0, 31, 0]'),\n",
              " Text(0.5833333333333334, 0.21428571428571427, 'X[1] <= 2.45\\ngini = 0.444\\nsamples = 3\\nvalue = [0, 2, 1]'),\n",
              " Text(0.5, 0.07142857142857142, 'gini = 0.0\\nsamples = 1\\nvalue = [0, 0, 1]'),\n",
              " Text(0.6666666666666666, 0.07142857142857142, 'gini = 0.0\\nsamples = 2\\nvalue = [0, 2, 0]'),\n",
              " Text(0.5, 0.5, 'gini = 0.0\\nsamples = 2\\nvalue = [0, 0, 2]'),\n",
              " Text(0.8333333333333334, 0.6428571428571429, 'X[2] <= 4.85\\ngini = 0.062\\nsamples = 31\\nvalue = [0, 1, 30]'),\n",
              " Text(0.75, 0.5, 'X[1] <= 3.1\\ngini = 0.444\\nsamples = 3\\nvalue = [0, 1, 2]'),\n",
              " Text(0.6666666666666666, 0.35714285714285715, 'gini = 0.0\\nsamples = 2\\nvalue = [0, 0, 2]'),\n",
              " Text(0.8333333333333334, 0.35714285714285715, 'gini = 0.0\\nsamples = 1\\nvalue = [0, 1, 0]'),\n",
              " Text(0.9166666666666666, 0.5, 'gini = 0.0\\nsamples = 28\\nvalue = [0, 0, 28]')]"
            ]
          },
          "metadata": {},
          "execution_count": 7
        },
        {
          "output_type": "display_data",
          "data": {
            "text/plain": [
              "<Figure size 432x288 with 1 Axes>"
            ],
            "image/png": "[encoded data removed]"
          },
          "metadata": {
            "needs_background": "light"
          }
        }
      ]
    },
    {
      "cell_type": "code",
      "source": [
        "import graphviz \n",
        "dot_data = tree.export_graphviz(clf, out_file=None, feature_names=irisData.feature_names,  class_names=irisData.target_names,  filled=True, rounded=True,  special_characters=True)  \n",
        "graph = graphviz.Source(dot_data)  \n",
        "graph "
      ],
      "metadata": {
        "colab": {
          "base_uri": "https://localhost:8080/",
          "height": 1000
        },
        "id": "e3VfYO8YoQCI",
        "outputId": "f713641f-8294-4e4d-8aaf-6d8a2ec330cf"
      },
      "execution_count": null,
      "outputs": [
        {
          "output_type": "execute_result",
          "data": {
            "text/plain": [
              "<graphviz.files.Source at 0x7f8256df7280>"
            ],
            "image/svg+xml": "<?xml version=\"1.0\" encoding=\"UTF-8\" standalone=\"no\"?>\n<!DOCTYPE svg PUBLIC \"-//W3C//DTD SVG 1.1//EN\"\n \"http://www.w3.org/Graphics/SVG/1.1/DTD/svg11.dtd\">\n<!-- Generated by graphviz version 2.40.1 (20161225.0304)\n -->\n<!-- Title: Tree Pages: 1 -->\n<svg width=\"894pt\" height=\"790pt\"\n viewBox=\"0.00 0.00 893.50 790.00\" xmlns=\"http://www.w3.org/2000/svg\" xmlns:xlink=\"http://www.w3.org/1999/xlink\">\n<g id=\"graph0\" class=\"graph\" transform=\"scale(1 1) rotate(0) translate(4 786)\">\n<title>Tree</title>\n<polygon fill=\"#ffffff\" stroke=\"transparent\" points=\"-4,4 -4,-786 889.5,-786 889.5,4 -4,4\"/>\n<!-- 0 -->\n<g id=\"node1\" class=\"node\">\n<title>0</title>\n<path fill=\"#fcfffd\" stroke=\"#000000\" d=\"M572.5,-782C572.5,-782 429.5,-782 429.5,-782 423.5,-782 417.5,-776 417.5,-770 417.5,-770 417.5,-711 417.5,-711 417.5,-705 423.5,-699 429.5,-699 429.5,-699 572.5,-699 572.5,-699 578.5,-699 584.5,-705 584.5,-711 584.5,-711 584.5,-770 584.5,-770 584.5,-776 578.5,-782 572.5,-782\"/>\n<text text-anchor=\"start\" x=\"425.5\" y=\"-766.8\" font-family=\"Helvetica,sans-Serif\" font-size=\"14.00\" fill=\"#000000\">petal length (cm) ≤ 2.45</text>\n<text text-anchor=\"start\" x=\"463\" y=\"-751.8\" font-family=\"Helvetica,sans-Serif\" font-size=\"14.00\" fill=\"#000000\">gini = 0.666</text>\n<text text-anchor=\"start\" x=\"453\" y=\"-736.8\" font-family=\"Helvetica,sans-Serif\" font-size=\"14.00\" fill=\"#000000\">samples = 100</text>\n<text text-anchor=\"start\" x=\"439\" y=\"-721.8\" font-family=\"Helvetica,sans-Serif\" font-size=\"14.00\" fill=\"#000000\">value = [31, 35, 34]</text>\n<text text-anchor=\"start\" x=\"445\" y=\"-706.8\" font-family=\"Helvetica,sans-Serif\" font-size=\"14.00\" fill=\"#000000\">class = versicolor</text>\n</g>\n<!-- 1 -->\n<g id=\"node2\" class=\"node\">\n<title>1</title>\n<path fill=\"#e58139\" stroke=\"#000000\" d=\"M470.5,-655.5C470.5,-655.5 371.5,-655.5 371.5,-655.5 365.5,-655.5 359.5,-649.5 359.5,-643.5 359.5,-643.5 359.5,-599.5 359.5,-599.5 359.5,-593.5 365.5,-587.5 371.5,-587.5 371.5,-587.5 470.5,-587.5 470.5,-587.5 476.5,-587.5 482.5,-593.5 482.5,-599.5 482.5,-599.5 482.5,-643.5 482.5,-643.5 482.5,-649.5 476.5,-655.5 470.5,-655.5\"/>\n<text text-anchor=\"start\" x=\"391.5\" y=\"-640.3\" font-family=\"Helvetica,sans-Serif\" font-size=\"14.00\" fill=\"#000000\">gini = 0.0</text>\n<text text-anchor=\"start\" x=\"377\" y=\"-625.3\" font-family=\"Helvetica,sans-Serif\" font-size=\"14.00\" fill=\"#000000\">samples = 31</text>\n<text text-anchor=\"start\" x=\"367.5\" y=\"-610.3\" font-family=\"Helvetica,sans-Serif\" font-size=\"14.00\" fill=\"#000000\">value = [31, 0, 0]</text>\n<text text-anchor=\"start\" x=\"374\" y=\"-595.3\" font-family=\"Helvetica,sans-Serif\" font-size=\"14.00\" fill=\"#000000\">class = setosa</text>\n</g>\n<!-- 0&#45;&gt;1 -->\n<g id=\"edge1\" class=\"edge\">\n<title>0&#45;&gt;1</title>\n<path fill=\"none\" stroke=\"#000000\" d=\"M473.0199,-698.8796C465.4797,-687.6636 457.3113,-675.5131 449.7309,-664.2372\"/>\n<polygon fill=\"#000000\" stroke=\"#000000\" points=\"452.5527,-662.1612 444.0689,-655.8149 446.7434,-666.0667 452.5527,-662.1612\"/>\n<text text-anchor=\"middle\" x=\"439.2608\" y=\"-676.6482\" font-family=\"Helvetica,sans-Serif\" font-size=\"14.00\" fill=\"#000000\">True</text>\n</g>\n<!-- 2 -->\n<g id=\"node3\" class=\"node\">\n<title>2</title>\n<path fill=\"#f9fefb\" stroke=\"#000000\" d=\"M649.5,-663C649.5,-663 512.5,-663 512.5,-663 506.5,-663 500.5,-657 500.5,-651 500.5,-651 500.5,-592 500.5,-592 500.5,-586 506.5,-580 512.5,-580 512.5,-580 649.5,-580 649.5,-580 655.5,-580 661.5,-586 661.5,-592 661.5,-592 661.5,-651 661.5,-651 661.5,-657 655.5,-663 649.5,-663\"/>\n<text text-anchor=\"start\" x=\"508.5\" y=\"-647.8\" font-family=\"Helvetica,sans-Serif\" font-size=\"14.00\" fill=\"#000000\">petal width (cm) ≤ 1.75</text>\n<text text-anchor=\"start\" x=\"551.5\" y=\"-632.8\" font-family=\"Helvetica,sans-Serif\" font-size=\"14.00\" fill=\"#000000\">gini = 0.5</text>\n<text text-anchor=\"start\" x=\"537\" y=\"-617.8\" font-family=\"Helvetica,sans-Serif\" font-size=\"14.00\" fill=\"#000000\">samples = 69</text>\n<text text-anchor=\"start\" x=\"523.5\" y=\"-602.8\" font-family=\"Helvetica,sans-Serif\" font-size=\"14.00\" fill=\"#000000\">value = [0, 35, 34]</text>\n<text text-anchor=\"start\" x=\"525\" y=\"-587.8\" font-family=\"Helvetica,sans-Serif\" font-size=\"14.00\" fill=\"#000000\">class = versicolor</text>\n</g>\n<!-- 0&#45;&gt;2 -->\n<g id=\"edge2\" class=\"edge\">\n<title>0&#45;&gt;2</title>\n<path fill=\"none\" stroke=\"#000000\" d=\"M528.9801,-698.8796C534.8531,-690.1434 541.1073,-680.8404 547.1679,-671.8253\"/>\n<polygon fill=\"#000000\" stroke=\"#000000\" points=\"550.2259,-673.5498 552.9005,-663.2981 544.4166,-669.6444 550.2259,-673.5498\"/>\n<text text-anchor=\"middle\" x=\"557.7085\" y=\"-684.1314\" font-family=\"Helvetica,sans-Serif\" font-size=\"14.00\" fill=\"#000000\">False</text>\n</g>\n<!-- 3 -->\n<g id=\"node4\" class=\"node\">\n<title>3</title>\n<path fill=\"#50e890\" stroke=\"#000000\" d=\"M560.5,-544C560.5,-544 417.5,-544 417.5,-544 411.5,-544 405.5,-538 405.5,-532 405.5,-532 405.5,-473 405.5,-473 405.5,-467 411.5,-461 417.5,-461 417.5,-461 560.5,-461 560.5,-461 566.5,-461 572.5,-467 572.5,-473 572.5,-473 572.5,-532 572.5,-532 572.5,-538 566.5,-544 560.5,-544\"/>\n<text text-anchor=\"start\" x=\"413.5\" y=\"-528.8\" font-family=\"Helvetica,sans-Serif\" font-size=\"14.00\" fill=\"#000000\">petal length (cm) ≤ 5.35</text>\n<text text-anchor=\"start\" x=\"451\" y=\"-513.8\" font-family=\"Helvetica,sans-Serif\" font-size=\"14.00\" fill=\"#000000\">gini = 0.188</text>\n<text text-anchor=\"start\" x=\"445\" y=\"-498.8\" font-family=\"Helvetica,sans-Serif\" font-size=\"14.00\" fill=\"#000000\">samples = 38</text>\n<text text-anchor=\"start\" x=\"435.5\" y=\"-483.8\" font-family=\"Helvetica,sans-Serif\" font-size=\"14.00\" fill=\"#000000\">value = [0, 34, 4]</text>\n<text text-anchor=\"start\" x=\"433\" y=\"-468.8\" font-family=\"Helvetica,sans-Serif\" font-size=\"14.00\" fill=\"#000000\">class = versicolor</text>\n</g>\n<!-- 2&#45;&gt;3 -->\n<g id=\"edge3\" class=\"edge\">\n<title>2&#45;&gt;3</title>\n<path fill=\"none\" stroke=\"#000000\" d=\"M548.8229,-579.8796C541.9296,-570.9633 534.5798,-561.4565 527.4761,-552.268\"/>\n<polygon fill=\"#000000\" stroke=\"#000000\" points=\"530.1999,-550.0687 521.3145,-544.2981 524.6619,-554.3502 530.1999,-550.0687\"/>\n</g>\n<!-- 14 -->\n<g id=\"node15\" class=\"node\">\n<title>14</title>\n<path fill=\"#8540e6\" stroke=\"#000000\" d=\"M745.5,-544C745.5,-544 602.5,-544 602.5,-544 596.5,-544 590.5,-538 590.5,-532 590.5,-532 590.5,-473 590.5,-473 590.5,-467 596.5,-461 602.5,-461 602.5,-461 745.5,-461 745.5,-461 751.5,-461 757.5,-467 757.5,-473 757.5,-473 757.5,-532 757.5,-532 757.5,-538 751.5,-544 745.5,-544\"/>\n<text text-anchor=\"start\" x=\"598.5\" y=\"-528.8\" font-family=\"Helvetica,sans-Serif\" font-size=\"14.00\" fill=\"#000000\">petal length (cm) ≤ 4.85</text>\n<text text-anchor=\"start\" x=\"636\" y=\"-513.8\" font-family=\"Helvetica,sans-Serif\" font-size=\"14.00\" fill=\"#000000\">gini = 0.062</text>\n<text text-anchor=\"start\" x=\"630\" y=\"-498.8\" font-family=\"Helvetica,sans-Serif\" font-size=\"14.00\" fill=\"#000000\">samples = 31</text>\n<text text-anchor=\"start\" x=\"620.5\" y=\"-483.8\" font-family=\"Helvetica,sans-Serif\" font-size=\"14.00\" fill=\"#000000\">value = [0, 1, 30]</text>\n<text text-anchor=\"start\" x=\"622.5\" y=\"-468.8\" font-family=\"Helvetica,sans-Serif\" font-size=\"14.00\" fill=\"#000000\">class = virginica</text>\n</g>\n<!-- 2&#45;&gt;14 -->\n<g id=\"edge14\" class=\"edge\">\n<title>2&#45;&gt;14</title>\n<path fill=\"none\" stroke=\"#000000\" d=\"M613.5269,-579.8796C620.4951,-570.9633 627.9247,-561.4565 635.1056,-552.268\"/>\n<polygon fill=\"#000000\" stroke=\"#000000\" points=\"637.9343,-554.3326 641.3343,-544.2981 632.4188,-550.0221 637.9343,-554.3326\"/>\n</g>\n<!-- 4 -->\n<g id=\"node5\" class=\"node\">\n<title>4</title>\n<path fill=\"#45e788\" stroke=\"#000000\" d=\"M408.5,-425C408.5,-425 261.5,-425 261.5,-425 255.5,-425 249.5,-419 249.5,-413 249.5,-413 249.5,-354 249.5,-354 249.5,-348 255.5,-342 261.5,-342 261.5,-342 408.5,-342 408.5,-342 414.5,-342 420.5,-348 420.5,-354 420.5,-354 420.5,-413 420.5,-413 420.5,-419 414.5,-425 408.5,-425\"/>\n<text text-anchor=\"start\" x=\"257.5\" y=\"-409.8\" font-family=\"Helvetica,sans-Serif\" font-size=\"14.00\" fill=\"#000000\">sepal length (cm) ≤ 4.95</text>\n<text text-anchor=\"start\" x=\"297\" y=\"-394.8\" font-family=\"Helvetica,sans-Serif\" font-size=\"14.00\" fill=\"#000000\">gini = 0.105</text>\n<text text-anchor=\"start\" x=\"291\" y=\"-379.8\" font-family=\"Helvetica,sans-Serif\" font-size=\"14.00\" fill=\"#000000\">samples = 36</text>\n<text text-anchor=\"start\" x=\"281.5\" y=\"-364.8\" font-family=\"Helvetica,sans-Serif\" font-size=\"14.00\" fill=\"#000000\">value = [0, 34, 2]</text>\n<text text-anchor=\"start\" x=\"279\" y=\"-349.8\" font-family=\"Helvetica,sans-Serif\" font-size=\"14.00\" fill=\"#000000\">class = versicolor</text>\n</g>\n<!-- 3&#45;&gt;4 -->\n<g id=\"edge4\" class=\"edge\">\n<title>3&#45;&gt;4</title>\n<path fill=\"none\" stroke=\"#000000\" d=\"M435.1383,-460.8796C422.8291,-451.368 409.6503,-441.1843 397.0296,-431.432\"/>\n<polygon fill=\"#000000\" stroke=\"#000000\" points=\"398.8843,-428.4419 388.8313,-425.0969 394.6041,-433.9809 398.8843,-428.4419\"/>\n</g>\n<!-- 13 -->\n<g id=\"node14\" class=\"node\">\n<title>13</title>\n<path fill=\"#8139e5\" stroke=\"#000000\" d=\"M545.5,-417.5C545.5,-417.5 450.5,-417.5 450.5,-417.5 444.5,-417.5 438.5,-411.5 438.5,-405.5 438.5,-405.5 438.5,-361.5 438.5,-361.5 438.5,-355.5 444.5,-349.5 450.5,-349.5 450.5,-349.5 545.5,-349.5 545.5,-349.5 551.5,-349.5 557.5,-355.5 557.5,-361.5 557.5,-361.5 557.5,-405.5 557.5,-405.5 557.5,-411.5 551.5,-417.5 545.5,-417.5\"/>\n<text text-anchor=\"start\" x=\"468.5\" y=\"-402.3\" font-family=\"Helvetica,sans-Serif\" font-size=\"14.00\" fill=\"#000000\">gini = 0.0</text>\n<text text-anchor=\"start\" x=\"458.5\" y=\"-387.3\" font-family=\"Helvetica,sans-Serif\" font-size=\"14.00\" fill=\"#000000\">samples = 2</text>\n<text text-anchor=\"start\" x=\"448.5\" y=\"-372.3\" font-family=\"Helvetica,sans-Serif\" font-size=\"14.00\" fill=\"#000000\">value = [0, 0, 2]</text>\n<text text-anchor=\"start\" x=\"446.5\" y=\"-357.3\" font-family=\"Helvetica,sans-Serif\" font-size=\"14.00\" fill=\"#000000\">class = virginica</text>\n</g>\n<!-- 3&#45;&gt;13 -->\n<g id=\"edge13\" class=\"edge\">\n<title>3&#45;&gt;13</title>\n<path fill=\"none\" stroke=\"#000000\" d=\"M492.1478,-460.8796C492.9545,-450.2134 493.8251,-438.7021 494.6419,-427.9015\"/>\n<polygon fill=\"#000000\" stroke=\"#000000\" points=\"498.1405,-428.0504 495.4048,-417.8149 491.1605,-427.5225 498.1405,-428.0504\"/>\n</g>\n<!-- 5 -->\n<g id=\"node6\" class=\"node\">\n<title>5</title>\n<path fill=\"#ffffff\" stroke=\"#000000\" d=\"M264.5,-306C264.5,-306 127.5,-306 127.5,-306 121.5,-306 115.5,-300 115.5,-294 115.5,-294 115.5,-235 115.5,-235 115.5,-229 121.5,-223 127.5,-223 127.5,-223 264.5,-223 264.5,-223 270.5,-223 276.5,-229 276.5,-235 276.5,-235 276.5,-294 276.5,-294 276.5,-300 270.5,-306 264.5,-306\"/>\n<text text-anchor=\"start\" x=\"123.5\" y=\"-290.8\" font-family=\"Helvetica,sans-Serif\" font-size=\"14.00\" fill=\"#000000\">petal width (cm) ≤ 1.35</text>\n<text text-anchor=\"start\" x=\"166.5\" y=\"-275.8\" font-family=\"Helvetica,sans-Serif\" font-size=\"14.00\" fill=\"#000000\">gini = 0.5</text>\n<text text-anchor=\"start\" x=\"156.5\" y=\"-260.8\" font-family=\"Helvetica,sans-Serif\" font-size=\"14.00\" fill=\"#000000\">samples = 2</text>\n<text text-anchor=\"start\" x=\"146.5\" y=\"-245.8\" font-family=\"Helvetica,sans-Serif\" font-size=\"14.00\" fill=\"#000000\">value = [0, 1, 1]</text>\n<text text-anchor=\"start\" x=\"140\" y=\"-230.8\" font-family=\"Helvetica,sans-Serif\" font-size=\"14.00\" fill=\"#000000\">class = versicolor</text>\n</g>\n<!-- 4&#45;&gt;5 -->\n<g id=\"edge5\" class=\"edge\">\n<title>4&#45;&gt;5</title>\n<path fill=\"none\" stroke=\"#000000\" d=\"M286.3845,-341.8796C275.4438,-332.513 263.7418,-322.4948 252.5092,-312.8784\"/>\n<polygon fill=\"#000000\" stroke=\"#000000\" points=\"254.6956,-310.1428 244.823,-306.2981 250.1432,-315.4603 254.6956,-310.1428\"/>\n</g>\n<!-- 8 -->\n<g id=\"node9\" class=\"node\">\n<title>8</title>\n<path fill=\"#3fe685\" stroke=\"#000000\" d=\"M449.5,-306C449.5,-306 306.5,-306 306.5,-306 300.5,-306 294.5,-300 294.5,-294 294.5,-294 294.5,-235 294.5,-235 294.5,-229 300.5,-223 306.5,-223 306.5,-223 449.5,-223 449.5,-223 455.5,-223 461.5,-229 461.5,-235 461.5,-235 461.5,-294 461.5,-294 461.5,-300 455.5,-306 449.5,-306\"/>\n<text text-anchor=\"start\" x=\"302.5\" y=\"-290.8\" font-family=\"Helvetica,sans-Serif\" font-size=\"14.00\" fill=\"#000000\">petal length (cm) ≤ 4.95</text>\n<text text-anchor=\"start\" x=\"340\" y=\"-275.8\" font-family=\"Helvetica,sans-Serif\" font-size=\"14.00\" fill=\"#000000\">gini = 0.057</text>\n<text text-anchor=\"start\" x=\"334\" y=\"-260.8\" font-family=\"Helvetica,sans-Serif\" font-size=\"14.00\" fill=\"#000000\">samples = 34</text>\n<text text-anchor=\"start\" x=\"324.5\" y=\"-245.8\" font-family=\"Helvetica,sans-Serif\" font-size=\"14.00\" fill=\"#000000\">value = [0, 33, 1]</text>\n<text text-anchor=\"start\" x=\"322\" y=\"-230.8\" font-family=\"Helvetica,sans-Serif\" font-size=\"14.00\" fill=\"#000000\">class = versicolor</text>\n</g>\n<!-- 4&#45;&gt;8 -->\n<g id=\"edge8\" class=\"edge\">\n<title>4&#45;&gt;8</title>\n<path fill=\"none\" stroke=\"#000000\" d=\"M350.0393,-341.8796C353.0659,-333.5037 356.2808,-324.6067 359.4117,-315.942\"/>\n<polygon fill=\"#000000\" stroke=\"#000000\" points=\"362.7897,-316.8924 362.8965,-306.2981 356.2063,-314.5135 362.7897,-316.8924\"/>\n</g>\n<!-- 6 -->\n<g id=\"node7\" class=\"node\">\n<title>6</title>\n<path fill=\"#39e581\" stroke=\"#000000\" d=\"M116,-179.5C116,-179.5 12,-179.5 12,-179.5 6,-179.5 0,-173.5 0,-167.5 0,-167.5 0,-123.5 0,-123.5 0,-117.5 6,-111.5 12,-111.5 12,-111.5 116,-111.5 116,-111.5 122,-111.5 128,-117.5 128,-123.5 128,-123.5 128,-167.5 128,-167.5 128,-173.5 122,-179.5 116,-179.5\"/>\n<text text-anchor=\"start\" x=\"34.5\" y=\"-164.3\" font-family=\"Helvetica,sans-Serif\" font-size=\"14.00\" fill=\"#000000\">gini = 0.0</text>\n<text text-anchor=\"start\" x=\"24.5\" y=\"-149.3\" font-family=\"Helvetica,sans-Serif\" font-size=\"14.00\" fill=\"#000000\">samples = 1</text>\n<text text-anchor=\"start\" x=\"14.5\" y=\"-134.3\" font-family=\"Helvetica,sans-Serif\" font-size=\"14.00\" fill=\"#000000\">value = [0, 1, 0]</text>\n<text text-anchor=\"start\" x=\"8\" y=\"-119.3\" font-family=\"Helvetica,sans-Serif\" font-size=\"14.00\" fill=\"#000000\">class = versicolor</text>\n</g>\n<!-- 5&#45;&gt;6 -->\n<g id=\"edge6\" class=\"edge\">\n<title>5&#45;&gt;6</title>\n<path fill=\"none\" stroke=\"#000000\" d=\"M149.8328,-222.8796C136.7817,-211.1138 122.5899,-198.3197 109.5739,-186.5855\"/>\n<polygon fill=\"#000000\" stroke=\"#000000\" points=\"111.8346,-183.9113 102.0636,-179.8149 107.1474,-189.1104 111.8346,-183.9113\"/>\n</g>\n<!-- 7 -->\n<g id=\"node8\" class=\"node\">\n<title>7</title>\n<path fill=\"#8139e5\" stroke=\"#000000\" d=\"M253.5,-179.5C253.5,-179.5 158.5,-179.5 158.5,-179.5 152.5,-179.5 146.5,-173.5 146.5,-167.5 146.5,-167.5 146.5,-123.5 146.5,-123.5 146.5,-117.5 152.5,-111.5 158.5,-111.5 158.5,-111.5 253.5,-111.5 253.5,-111.5 259.5,-111.5 265.5,-117.5 265.5,-123.5 265.5,-123.5 265.5,-167.5 265.5,-167.5 265.5,-173.5 259.5,-179.5 253.5,-179.5\"/>\n<text text-anchor=\"start\" x=\"176.5\" y=\"-164.3\" font-family=\"Helvetica,sans-Serif\" font-size=\"14.00\" fill=\"#000000\">gini = 0.0</text>\n<text text-anchor=\"start\" x=\"166.5\" y=\"-149.3\" font-family=\"Helvetica,sans-Serif\" font-size=\"14.00\" fill=\"#000000\">samples = 1</text>\n<text text-anchor=\"start\" x=\"156.5\" y=\"-134.3\" font-family=\"Helvetica,sans-Serif\" font-size=\"14.00\" fill=\"#000000\">value = [0, 0, 1]</text>\n<text text-anchor=\"start\" x=\"154.5\" y=\"-119.3\" font-family=\"Helvetica,sans-Serif\" font-size=\"14.00\" fill=\"#000000\">class = virginica</text>\n</g>\n<!-- 5&#45;&gt;7 -->\n<g id=\"edge7\" class=\"edge\">\n<title>5&#45;&gt;7</title>\n<path fill=\"none\" stroke=\"#000000\" d=\"M199.4975,-222.8796C200.3938,-212.2134 201.3612,-200.7021 202.2688,-189.9015\"/>\n<polygon fill=\"#000000\" stroke=\"#000000\" points=\"205.7666,-190.0729 203.1164,-179.8149 198.7912,-189.4867 205.7666,-190.0729\"/>\n</g>\n<!-- 9 -->\n<g id=\"node10\" class=\"node\">\n<title>9</title>\n<path fill=\"#39e581\" stroke=\"#000000\" d=\"M420,-179.5C420,-179.5 316,-179.5 316,-179.5 310,-179.5 304,-173.5 304,-167.5 304,-167.5 304,-123.5 304,-123.5 304,-117.5 310,-111.5 316,-111.5 316,-111.5 420,-111.5 420,-111.5 426,-111.5 432,-117.5 432,-123.5 432,-123.5 432,-167.5 432,-167.5 432,-173.5 426,-179.5 420,-179.5\"/>\n<text text-anchor=\"start\" x=\"338.5\" y=\"-164.3\" font-family=\"Helvetica,sans-Serif\" font-size=\"14.00\" fill=\"#000000\">gini = 0.0</text>\n<text text-anchor=\"start\" x=\"324\" y=\"-149.3\" font-family=\"Helvetica,sans-Serif\" font-size=\"14.00\" fill=\"#000000\">samples = 31</text>\n<text text-anchor=\"start\" x=\"314.5\" y=\"-134.3\" font-family=\"Helvetica,sans-Serif\" font-size=\"14.00\" fill=\"#000000\">value = [0, 31, 0]</text>\n<text text-anchor=\"start\" x=\"312\" y=\"-119.3\" font-family=\"Helvetica,sans-Serif\" font-size=\"14.00\" fill=\"#000000\">class = versicolor</text>\n</g>\n<!-- 8&#45;&gt;9 -->\n<g id=\"edge9\" class=\"edge\">\n<title>8&#45;&gt;9</title>\n<path fill=\"none\" stroke=\"#000000\" d=\"M374.5025,-222.8796C373.6062,-212.2134 372.6388,-200.7021 371.7312,-189.9015\"/>\n<polygon fill=\"#000000\" stroke=\"#000000\" points=\"375.2088,-189.4867 370.8836,-179.8149 368.2334,-190.0729 375.2088,-189.4867\"/>\n</g>\n<!-- 10 -->\n<g id=\"node11\" class=\"node\">\n<title>10</title>\n<path fill=\"#9cf2c0\" stroke=\"#000000\" d=\"M603.5,-187C603.5,-187 462.5,-187 462.5,-187 456.5,-187 450.5,-181 450.5,-175 450.5,-175 450.5,-116 450.5,-116 450.5,-110 456.5,-104 462.5,-104 462.5,-104 603.5,-104 603.5,-104 609.5,-104 615.5,-110 615.5,-116 615.5,-116 615.5,-175 615.5,-175 615.5,-181 609.5,-187 603.5,-187\"/>\n<text text-anchor=\"start\" x=\"458.5\" y=\"-171.8\" font-family=\"Helvetica,sans-Serif\" font-size=\"14.00\" fill=\"#000000\">sepal width (cm) ≤ 2.45</text>\n<text text-anchor=\"start\" x=\"495\" y=\"-156.8\" font-family=\"Helvetica,sans-Serif\" font-size=\"14.00\" fill=\"#000000\">gini = 0.444</text>\n<text text-anchor=\"start\" x=\"493.5\" y=\"-141.8\" font-family=\"Helvetica,sans-Serif\" font-size=\"14.00\" fill=\"#000000\">samples = 3</text>\n<text text-anchor=\"start\" x=\"483.5\" y=\"-126.8\" font-family=\"Helvetica,sans-Serif\" font-size=\"14.00\" fill=\"#000000\">value = [0, 2, 1]</text>\n<text text-anchor=\"start\" x=\"477\" y=\"-111.8\" font-family=\"Helvetica,sans-Serif\" font-size=\"14.00\" fill=\"#000000\">class = versicolor</text>\n</g>\n<!-- 8&#45;&gt;10 -->\n<g id=\"edge10\" class=\"edge\">\n<title>8&#45;&gt;10</title>\n<path fill=\"none\" stroke=\"#000000\" d=\"M432.2115,-222.8796C444.6006,-213.368 457.8649,-203.1843 470.5676,-193.432\"/>\n<polygon fill=\"#000000\" stroke=\"#000000\" points=\"473.0186,-195.9628 478.8191,-187.0969 468.7558,-190.4105 473.0186,-195.9628\"/>\n</g>\n<!-- 11 -->\n<g id=\"node12\" class=\"node\">\n<title>11</title>\n<path fill=\"#8139e5\" stroke=\"#000000\" d=\"M509.5,-68C509.5,-68 414.5,-68 414.5,-68 408.5,-68 402.5,-62 402.5,-56 402.5,-56 402.5,-12 402.5,-12 402.5,-6 408.5,0 414.5,0 414.5,0 509.5,0 509.5,0 515.5,0 521.5,-6 521.5,-12 521.5,-12 521.5,-56 521.5,-56 521.5,-62 515.5,-68 509.5,-68\"/>\n<text text-anchor=\"start\" x=\"432.5\" y=\"-52.8\" font-family=\"Helvetica,sans-Serif\" font-size=\"14.00\" fill=\"#000000\">gini = 0.0</text>\n<text text-anchor=\"start\" x=\"422.5\" y=\"-37.8\" font-family=\"Helvetica,sans-Serif\" font-size=\"14.00\" fill=\"#000000\">samples = 1</text>\n<text text-anchor=\"start\" x=\"412.5\" y=\"-22.8\" font-family=\"Helvetica,sans-Serif\" font-size=\"14.00\" fill=\"#000000\">value = [0, 0, 1]</text>\n<text text-anchor=\"start\" x=\"410.5\" y=\"-7.8\" font-family=\"Helvetica,sans-Serif\" font-size=\"14.00\" fill=\"#000000\">class = virginica</text>\n</g>\n<!-- 10&#45;&gt;11 -->\n<g id=\"edge11\" class=\"edge\">\n<title>10&#45;&gt;11</title>\n<path fill=\"none\" stroke=\"#000000\" d=\"M506.5622,-103.9815C500.944,-95.1585 495.0012,-85.8258 489.3497,-76.9506\"/>\n<polygon fill=\"#000000\" stroke=\"#000000\" points=\"492.1416,-74.8188 483.8181,-68.2637 486.2371,-78.5787 492.1416,-74.8188\"/>\n</g>\n<!-- 12 -->\n<g id=\"node13\" class=\"node\">\n<title>12</title>\n<path fill=\"#39e581\" stroke=\"#000000\" d=\"M656,-68C656,-68 552,-68 552,-68 546,-68 540,-62 540,-56 540,-56 540,-12 540,-12 540,-6 546,0 552,0 552,0 656,0 656,0 662,0 668,-6 668,-12 668,-12 668,-56 668,-56 668,-62 662,-68 656,-68\"/>\n<text text-anchor=\"start\" x=\"574.5\" y=\"-52.8\" font-family=\"Helvetica,sans-Serif\" font-size=\"14.00\" fill=\"#000000\">gini = 0.0</text>\n<text text-anchor=\"start\" x=\"564.5\" y=\"-37.8\" font-family=\"Helvetica,sans-Serif\" font-size=\"14.00\" fill=\"#000000\">samples = 2</text>\n<text text-anchor=\"start\" x=\"554.5\" y=\"-22.8\" font-family=\"Helvetica,sans-Serif\" font-size=\"14.00\" fill=\"#000000\">value = [0, 2, 0]</text>\n<text text-anchor=\"start\" x=\"548\" y=\"-7.8\" font-family=\"Helvetica,sans-Serif\" font-size=\"14.00\" fill=\"#000000\">class = versicolor</text>\n</g>\n<!-- 10&#45;&gt;12 -->\n<g id=\"edge12\" class=\"edge\">\n<title>10&#45;&gt;12</title>\n<path fill=\"none\" stroke=\"#000000\" d=\"M559.4378,-103.9815C565.056,-95.1585 570.9988,-85.8258 576.6503,-76.9506\"/>\n<polygon fill=\"#000000\" stroke=\"#000000\" points=\"579.7629,-78.5787 582.1819,-68.2637 573.8584,-74.8188 579.7629,-78.5787\"/>\n</g>\n<!-- 15 -->\n<g id=\"node16\" class=\"node\">\n<title>15</title>\n<path fill=\"#c09cf2\" stroke=\"#000000\" d=\"M732.5,-425C732.5,-425 599.5,-425 599.5,-425 593.5,-425 587.5,-419 587.5,-413 587.5,-413 587.5,-354 587.5,-354 587.5,-348 593.5,-342 599.5,-342 599.5,-342 732.5,-342 732.5,-342 738.5,-342 744.5,-348 744.5,-354 744.5,-354 744.5,-413 744.5,-413 744.5,-419 738.5,-425 732.5,-425\"/>\n<text text-anchor=\"start\" x=\"595.5\" y=\"-409.8\" font-family=\"Helvetica,sans-Serif\" font-size=\"14.00\" fill=\"#000000\">sepal width (cm) ≤ 3.1</text>\n<text text-anchor=\"start\" x=\"628\" y=\"-394.8\" font-family=\"Helvetica,sans-Serif\" font-size=\"14.00\" fill=\"#000000\">gini = 0.444</text>\n<text text-anchor=\"start\" x=\"626.5\" y=\"-379.8\" font-family=\"Helvetica,sans-Serif\" font-size=\"14.00\" fill=\"#000000\">samples = 3</text>\n<text text-anchor=\"start\" x=\"616.5\" y=\"-364.8\" font-family=\"Helvetica,sans-Serif\" font-size=\"14.00\" fill=\"#000000\">value = [0, 1, 2]</text>\n<text text-anchor=\"start\" x=\"614.5\" y=\"-349.8\" font-family=\"Helvetica,sans-Serif\" font-size=\"14.00\" fill=\"#000000\">class = virginica</text>\n</g>\n<!-- 14&#45;&gt;15 -->\n<g id=\"edge15\" class=\"edge\">\n<title>14&#45;&gt;15</title>\n<path fill=\"none\" stroke=\"#000000\" d=\"M671.202,-460.8796C670.651,-452.6838 670.0665,-443.9891 669.4959,-435.5013\"/>\n<polygon fill=\"#000000\" stroke=\"#000000\" points=\"672.9729,-435.0408 668.81,-425.2981 665.9887,-435.5103 672.9729,-435.0408\"/>\n</g>\n<!-- 18 -->\n<g id=\"node19\" class=\"node\">\n<title>18</title>\n<path fill=\"#8139e5\" stroke=\"#000000\" d=\"M873.5,-417.5C873.5,-417.5 774.5,-417.5 774.5,-417.5 768.5,-417.5 762.5,-411.5 762.5,-405.5 762.5,-405.5 762.5,-361.5 762.5,-361.5 762.5,-355.5 768.5,-349.5 774.5,-349.5 774.5,-349.5 873.5,-349.5 873.5,-349.5 879.5,-349.5 885.5,-355.5 885.5,-361.5 885.5,-361.5 885.5,-405.5 885.5,-405.5 885.5,-411.5 879.5,-417.5 873.5,-417.5\"/>\n<text text-anchor=\"start\" x=\"794.5\" y=\"-402.3\" font-family=\"Helvetica,sans-Serif\" font-size=\"14.00\" fill=\"#000000\">gini = 0.0</text>\n<text text-anchor=\"start\" x=\"780\" y=\"-387.3\" font-family=\"Helvetica,sans-Serif\" font-size=\"14.00\" fill=\"#000000\">samples = 28</text>\n<text text-anchor=\"start\" x=\"770.5\" y=\"-372.3\" font-family=\"Helvetica,sans-Serif\" font-size=\"14.00\" fill=\"#000000\">value = [0, 0, 28]</text>\n<text text-anchor=\"start\" x=\"772.5\" y=\"-357.3\" font-family=\"Helvetica,sans-Serif\" font-size=\"14.00\" fill=\"#000000\">class = virginica</text>\n</g>\n<!-- 14&#45;&gt;18 -->\n<g id=\"edge18\" class=\"edge\">\n<title>14&#45;&gt;18</title>\n<path fill=\"none\" stroke=\"#000000\" d=\"M726.4627,-460.8796C741.4322,-449.0038 757.7222,-436.0804 772.6259,-424.2568\"/>\n<polygon fill=\"#000000\" stroke=\"#000000\" points=\"775.087,-426.772 780.7459,-417.8149 770.7365,-421.2881 775.087,-426.772\"/>\n</g>\n<!-- 16 -->\n<g id=\"node17\" class=\"node\">\n<title>16</title>\n<path fill=\"#8139e5\" stroke=\"#000000\" d=\"M671.5,-298.5C671.5,-298.5 576.5,-298.5 576.5,-298.5 570.5,-298.5 564.5,-292.5 564.5,-286.5 564.5,-286.5 564.5,-242.5 564.5,-242.5 564.5,-236.5 570.5,-230.5 576.5,-230.5 576.5,-230.5 671.5,-230.5 671.5,-230.5 677.5,-230.5 683.5,-236.5 683.5,-242.5 683.5,-242.5 683.5,-286.5 683.5,-286.5 683.5,-292.5 677.5,-298.5 671.5,-298.5\"/>\n<text text-anchor=\"start\" x=\"594.5\" y=\"-283.3\" font-family=\"Helvetica,sans-Serif\" font-size=\"14.00\" fill=\"#000000\">gini = 0.0</text>\n<text text-anchor=\"start\" x=\"584.5\" y=\"-268.3\" font-family=\"Helvetica,sans-Serif\" font-size=\"14.00\" fill=\"#000000\">samples = 2</text>\n<text text-anchor=\"start\" x=\"574.5\" y=\"-253.3\" font-family=\"Helvetica,sans-Serif\" font-size=\"14.00\" fill=\"#000000\">value = [0, 0, 2]</text>\n<text text-anchor=\"start\" x=\"572.5\" y=\"-238.3\" font-family=\"Helvetica,sans-Serif\" font-size=\"14.00\" fill=\"#000000\">class = virginica</text>\n</g>\n<!-- 15&#45;&gt;16 -->\n<g id=\"edge16\" class=\"edge\">\n<title>15&#45;&gt;16</title>\n<path fill=\"none\" stroke=\"#000000\" d=\"M651.3104,-341.8796C647.5071,-331.1034 643.3993,-319.4647 639.5533,-308.5677\"/>\n<polygon fill=\"#000000\" stroke=\"#000000\" points=\"642.7399,-307.08 636.1112,-298.8149 636.139,-309.4097 642.7399,-307.08\"/>\n</g>\n<!-- 17 -->\n<g id=\"node18\" class=\"node\">\n<title>17</title>\n<path fill=\"#39e581\" stroke=\"#000000\" d=\"M818,-298.5C818,-298.5 714,-298.5 714,-298.5 708,-298.5 702,-292.5 702,-286.5 702,-286.5 702,-242.5 702,-242.5 702,-236.5 708,-230.5 714,-230.5 714,-230.5 818,-230.5 818,-230.5 824,-230.5 830,-236.5 830,-242.5 830,-242.5 830,-286.5 830,-286.5 830,-292.5 824,-298.5 818,-298.5\"/>\n<text text-anchor=\"start\" x=\"736.5\" y=\"-283.3\" font-family=\"Helvetica,sans-Serif\" font-size=\"14.00\" fill=\"#000000\">gini = 0.0</text>\n<text text-anchor=\"start\" x=\"726.5\" y=\"-268.3\" font-family=\"Helvetica,sans-Serif\" font-size=\"14.00\" fill=\"#000000\">samples = 1</text>\n<text text-anchor=\"start\" x=\"716.5\" y=\"-253.3\" font-family=\"Helvetica,sans-Serif\" font-size=\"14.00\" fill=\"#000000\">value = [0, 1, 0]</text>\n<text text-anchor=\"start\" x=\"710\" y=\"-238.3\" font-family=\"Helvetica,sans-Serif\" font-size=\"14.00\" fill=\"#000000\">class = versicolor</text>\n</g>\n<!-- 15&#45;&gt;17 -->\n<g id=\"edge17\" class=\"edge\">\n<title>15&#45;&gt;17</title>\n<path fill=\"none\" stroke=\"#000000\" d=\"M700.9751,-341.8796C710.5852,-330.4436 721.0115,-318.0363 730.6429,-306.575\"/>\n<polygon fill=\"#000000\" stroke=\"#000000\" points=\"733.41,-308.7225 737.1639,-298.8149 728.0509,-304.219 733.41,-308.7225\"/>\n</g>\n</g>\n</svg>\n"
          },
          "metadata": {},
          "execution_count": 8
        }
      ]
    },
    {
      "cell_type": "code",
      "source": [
        "p=clf.predict(X_test)\n",
        "error = (np.count_nonzero(p - y_test))/ len(irisData.data)\n",
        "print(error)"
      ],
      "metadata": {
        "colab": {
          "base_uri": "https://localhost:8080/"
        },
        "id": "KIhMhggDov2R",
        "outputId": "d6cf88b1-058a-420e-8d72-510754473f5f"
      },
      "execution_count": null,
      "outputs": [
        {
          "output_type": "stream",
          "name": "stdout",
          "text": [
            "0.013333333333333334\n"
          ]
        }
      ]
    },
    {
      "cell_type": "code",
      "source": [
        "repeat_experience(irisData,clf,10,20)\n",
        "repeat_experience(irisData,clf,50,20)\n",
        "repeat_experience(irisData,clf,100,20)\n",
        "repeat_experience(irisData,clf,200,20)\n",
        "repeat_experience(irisData,clf,500,20)\n",
        "repeat_experience(irisData,clf,1000,20)"
      ],
      "metadata": {
        "colab": {
          "base_uri": "https://localhost:8080/"
        },
        "id": "eQTAWKkDpYOy",
        "outputId": "06308d0a-1efe-438b-cbdc-23ee5f1f8cd4"
      },
      "execution_count": null,
      "outputs": [
        {
          "output_type": "stream",
          "name": "stdout",
          "text": [
            "mean error with t= 10  is:  0.017666666666666664\n",
            "mean error with t= 50  is:  0.017666666666666657\n",
            "mean error with t= 100  is:  0.017666666666666678\n",
            "mean error with t= 200  is:  0.020999999999999998\n",
            "mean error with t= 500  is:  0.01866666666666659\n",
            "mean error with t= 1000  is:  0.01666666666666677\n"
          ]
        }
      ]
    }
  ]
}